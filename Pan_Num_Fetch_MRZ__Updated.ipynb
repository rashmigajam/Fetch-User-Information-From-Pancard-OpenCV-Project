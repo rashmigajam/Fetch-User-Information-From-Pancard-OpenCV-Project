{
 "cells": [
  {
   "cell_type": "code",
   "execution_count": 1,
   "metadata": {},
   "outputs": [],
   "source": [
    "import os\n",
    "import os.path\n",
    "import json\n",
    "import sys\n",
    "import pytesseract\n",
    "import re\n",
    "import difflib\n",
    "import csv\n",
    "import cv2\n",
    "import dateutil.parser as dparser\n",
    "from PIL import Image\n",
    "import imutils\n",
    "import numpy as np\n",
    "import re"
   ]
  },
  {
   "cell_type": "code",
   "execution_count": 2,
   "metadata": {},
   "outputs": [],
   "source": [
    "rectKernel = cv2.getStructuringElement(cv2.MORPH_RECT, (13, 5))\n",
    "sqKernel = cv2.getStructuringElement(cv2.MORPH_RECT, (21, 21))\n"
   ]
  },
  {
   "cell_type": "code",
   "execution_count": 3,
   "metadata": {},
   "outputs": [
    {
     "name": "stdout",
     "output_type": "stream",
     "text": [
      "(298, 454, 3)\n"
     ]
    }
   ],
   "source": [
    "Pan3 = cv2.imread(\"/home/hduser/Documents/Pancard/Pan4.jpg\")\n",
    "#Pan3 = cv2.cvtColor(Pan3, cv2.COLOR_BGR2GRAY)\n",
    "print(Pan3.shape)"
   ]
  },
  {
   "cell_type": "code",
   "execution_count": 4,
   "metadata": {},
   "outputs": [],
   "source": [
    "image = imutils.resize(Pan3, height=600)\n",
    "gray = cv2.cvtColor(image, cv2.COLOR_BGR2GRAY)\n",
    "gray = cv2.GaussianBlur(gray, (3, 3), 0)\n",
    "blackhat = cv2.morphologyEx(gray, cv2.MORPH_BLACKHAT, rectKernel)\n",
    "# cv2.imshow(\"Pan3_blackhat_image\",blackhat)\n",
    "# cv2.waitKey(0)\n",
    "# cv2.destroyAllWindows()"
   ]
  },
  {
   "cell_type": "code",
   "execution_count": 5,
   "metadata": {},
   "outputs": [],
   "source": [
    "gradX = cv2.Sobel(blackhat, ddepth=cv2.CV_32F, dx=1, dy=0, ksize=-1)\n",
    "gradX = np.absolute(gradX)\n",
    "(minVal, maxVal) = (np.min(gradX), np.max(gradX))\n",
    "gradX = (255 * ((gradX - minVal) / (maxVal - minVal))).astype(\"uint8\")\n",
    "# cv2.imshow(\"Pan3_gradX\",gradX)\n",
    "# cv2.waitKey(0)\n",
    "# cv2.destroyAllWindows()"
   ]
  },
  {
   "cell_type": "code",
   "execution_count": 6,
   "metadata": {},
   "outputs": [],
   "source": [
    "gradX = cv2.morphologyEx(gradX, cv2.MORPH_CLOSE, rectKernel)\n",
    "thresh = cv2.threshold(gradX, 0, 255, cv2.THRESH_BINARY | cv2.THRESH_OTSU)[1]\n",
    "# cv2.imshow(\"Pan3_thresh\",thresh)\n",
    "# cv2.waitKey(0)\n",
    "# cv2.destroyAllWindows()"
   ]
  },
  {
   "cell_type": "code",
   "execution_count": 7,
   "metadata": {},
   "outputs": [],
   "source": [
    "thresh = cv2.morphologyEx(thresh, cv2.MORPH_CLOSE, sqKernel)\n",
    "thresh = cv2.erode(thresh, None, iterations=4)\n",
    "# cv2.imshow(\"Pan3_thresh\",thresh)\n",
    "# cv2.waitKey(0)\n",
    "# cv2.destroyAllWindows()"
   ]
  },
  {
   "cell_type": "code",
   "execution_count": 8,
   "metadata": {},
   "outputs": [
    {
     "name": "stdout",
     "output_type": "stream",
     "text": [
      "['\"SW Hum cggg‘u Hm (1 Hum!', '', 'INCUMETAXDEPARTMEM J‘b‘ GOVT.\\\\0FINDIA', 'SHRIJEET HAJAN SALAGARE s\"? \\' \"5,1', 'RAJAN BHIKU SALAGARE‘', '', 'RIM/1934.', 'Permanent Account Number', '', 'CWEPS5009R', '', 'Signature', '', ' ', '', '2807201 0']\n"
     ]
    }
   ],
   "source": [
    "# cnts = cv2.findContours(thresh.copy(), cv2.RETR_EXTERNAL,cv2.CHAIN_APPROX_SIMPLE)[-2]\n",
    "cnts = cv2.findContours(thresh.copy(), cv2.RETR_EXTERNAL,\n",
    "                        cv2.CHAIN_APPROX_SIMPLE)[-2]\n",
    "info_list=[]\n",
    "\n",
    "for c in cnts:\n",
    "    (x, y, w, h) = cv2.boundingRect(c)\n",
    "    pX = int((x + w) * 0.03)\n",
    "    pY = int((y + h) * 0.03)\n",
    "    (x, y) = (x - pX, y - pY)\n",
    "    (w, h) = (w + (pX * 2), h + (pY * 2))\n",
    "    roi = image[y:y + h, x:x + w].copy()\n",
    "     # roi=cv2.resize(roi,(650,500))\n",
    "    #print(roi.shape)\n",
    "    image=cv2.rectangle(image, (x, y), (x + w, y + h), (0, 255, 0), 2) \n",
    "    gray = cv2.cvtColor(image, cv2.COLOR_BGR2GRAY)\n",
    "    _,img = cv2.threshold(gray,100,255,cv2.THRESH_BINARY)\n",
    "    img=cv2.resize(img,(590,600))\n",
    "    im=pytesseract.image_to_string(img)\n",
    "    im=re.split(r'\\n',im)\n",
    "    \n",
    "print(im)\n",
    "# for pan in pan:\n",
    "#     if re.search(pan, im):\n",
    "#         print(im)\n",
    "\n",
    "    \n",
    "# show the output images\n",
    "# cv2.imshow(\"Image\", image)\n",
    "# cv2.imshow(\"ROI\", roi)\n",
    "# cv2.waitKey(0)\n",
    "# cv2.destroyAllWindows()\n"
   ]
  },
  {
   "cell_type": "code",
   "execution_count": 9,
   "metadata": {},
   "outputs": [
    {
     "data": {
      "text/plain": [
       "'\"SW Hum cggg‘u Hm (1 Hum!  INCUMETAXDEPARTMEM J‘b‘ GOVT.\\\\0FINDIA SHRIJEET HAJAN SALAGARE s\"? \\' \"5,1 RAJAN BHIKU SALAGARE‘  RIM/1934. Permanent Account Number  CWEPS5009R  Signature     2807201 0'"
      ]
     },
     "execution_count": 9,
     "metadata": {},
     "output_type": "execute_result"
    }
   ],
   "source": [
    "im1=' '.join(im)    #convert list to string\n",
    "im1"
   ]
  },
  {
   "cell_type": "code",
   "execution_count": 20,
   "metadata": {},
   "outputs": [
    {
     "name": "stdout",
     "output_type": "stream",
     "text": [
      "Levenshtein Distance: 1.0\n",
      "Pan Number found..\n",
      "Permanent Account Number  ['CWEPS5009R']\n"
     ]
    }
   ],
   "source": [
    "import re \n",
    "import Levenshtein\n",
    "match_string = \"Permanent Account Number\"\n",
    "substring=\"Permanent Account Number\"\n",
    "match = re.findall(r'[A-Z]{5}[0-9][0-9][0-9][0-9][A-Z]', im1)\n",
    "if substring in im1:\n",
    "    if(Levenshtein.ratio(match_string,substring)) > 0.5:\n",
    "        print(\"Levenshtein Distance:\",Levenshtein.ratio(match_string, substring))\n",
    "        print(\"Pan Number found..\")\n",
    "        print(\"Permanent Account Number \",match)\n",
    "    else:\n",
    "        print(\"Please upload clear pan image\")\n",
    "        "
   ]
  },
  {
   "cell_type": "code",
   "execution_count": 10,
   "metadata": {},
   "outputs": [],
   "source": [
    "# def Pan_num_extract(value, a, b):\n",
    "#     # Find and validate before-part.\n",
    "#     pos_a = value.find(a)\n",
    "#     if pos_a == -1: return \"\"\n",
    "#     # Find and validate after part.\n",
    "#     pos_b = value.rfind(b)\n",
    "#     if pos_b == -1: return \"\"\n",
    "#     # Return middle part.\n",
    "#     adjusted_pos_a = pos_a + len(a)\n",
    "#     if adjusted_pos_a >= pos_b: return \"\"\n",
    "#     return value[adjusted_pos_a:pos_b]"
   ]
  },
  {
   "cell_type": "code",
   "execution_count": 11,
   "metadata": {},
   "outputs": [],
   "source": [
    "# Pan_num = Pan_num_extract(im1, \"Permanent\", \"Signature\")"
   ]
  },
  {
   "cell_type": "code",
   "execution_count": null,
   "metadata": {},
   "outputs": [],
   "source": []
  },
  {
   "cell_type": "code",
   "execution_count": 13,
   "metadata": {},
   "outputs": [],
   "source": [
    "# import re \n",
    "# re.search(r'Number: [0-6]', 'Number: 5').group()\n",
    "# phoneNumRegex = re.compile(r'[A-z]\\d\\d\\d\\d-[A-Z]') \n",
    "# print(phoneNumRegex)\n",
    "# # mo = phoneNumRegex.search('My number is 415-555-4242.') \n",
    "# # print('Phone number found: ' + mo.group())"
   ]
  },
  {
   "cell_type": "code",
   "execution_count": 15,
   "metadata": {},
   "outputs": [],
   "source": [
    "# import re\n",
    "# foo = 'CWEPS5009R '\n",
    "# match = re.findall(r'[A-Z]{5}[0-9][0-9][0-9][0-9][A-Z]', foo)\n",
    "# print(match)"
   ]
  },
  {
   "cell_type": "code",
   "execution_count": null,
   "metadata": {},
   "outputs": [],
   "source": [
    "# import Levenshtein\n",
    "# substring = \"Permanent Account Numbr\"\n",
    "# for i in im:\n",
    "#     for substring in i:\n",
    "#         print (\"Your substring was found!\")\n",
    "        \n",
    "# #         if (Levenshtein.ratio(substring,i)) > 0.5:\n",
    "# #                 print(\"Levenshtein Distance:\",Levenshtein.ratio(substring,i))\n",
    "# #                 print(\"Pan Number found..\")\n",
    "# #                 print(\"Permanent\",Pan_num) \n",
    "# #         else:\n",
    "# #                 print(\"Levenshtein Distance:\",Levenshtein.ratio(substring,i))\n",
    "# #                 print(\"Please upload clear pan image\")"
   ]
  },
  {
   "cell_type": "code",
   "execution_count": null,
   "metadata": {},
   "outputs": [],
   "source": [
    "# import Levenshtein\n",
    "# match_string = \"Permanent Account Number\"\n",
    "# for i in im:\n",
    "#     print (Levenshtein.ratio(match_string, i))\n",
    "#     if (Levenshtein.ratio(match_string, i)) > 0.5:\n",
    "#                 print(\"Levenshtein Distance:\",Levenshtein.ratio(match_string, i))\n",
    "#                 print(\"Pan Number found..\")\n",
    "#                 print(\"Permanent\",Pan_num)\n",
    "#     else:\n",
    "#                  print('No')\n"
   ]
  },
  {
   "cell_type": "code",
   "execution_count": null,
   "metadata": {},
   "outputs": [],
   "source": [
    "# all_text =\"seema\"\n",
    "\n",
    "# if any(word in all_text for word in im):\n",
    "#     if (Levenshtein.ratio(match_string, i)) > 0.5:\n",
    "#             print(\"Levenshtein Distance:\",Levenshtein.ratio(match_string, i))\n",
    "#             print(\"Pan Number found..\")\n",
    "#             print(\"Permanent\",Pan_num)\n",
    "#     else:\n",
    "#          print(\"no\")\n"
   ]
  },
  {
   "cell_type": "code",
   "execution_count": null,
   "metadata": {},
   "outputs": [],
   "source": [
    "# # match = \"Permanent Account Number\"\n",
    "# import Levenshtein\n",
    "# match=\"Permanent Acocunt Number\"\n",
    "\n",
    "# if (Levenshtein.ratio(match, i)) > 0.5:\n",
    "#     for match in im:\n",
    "#             print(\"Levenshtein Distance:\",Levenshtein.ratio(match,i))\n",
    "#             print(\"Pan Number found..\")\n",
    "#             print(\"Permanent\",Pan_num)\n",
    "# else:\n",
    "#            print(\"Please upload clear pan image\")\n",
    "        "
   ]
  },
  {
   "cell_type": "code",
   "execution_count": null,
   "metadata": {},
   "outputs": [],
   "source": [
    "# import Levenshtein\n",
    "\n",
    "# match=\"Permanent Accout Number\"\n",
    "# for match in im:\n",
    "#         if (Levenshtein.ratio(match, i)) > 0.5:\n",
    "#             print(\"Levenshtein Distance:\",Levenshtein.ratio(match,i))\n",
    "#             print(\"Pan Number found..\")\n",
    "#             print(\"Permanent\",Pan_num)\n",
    "#             break\n",
    "#         else:\n",
    "#             print(\"no\")\n",
    "            \n",
    "         \n"
   ]
  },
  {
   "cell_type": "code",
   "execution_count": null,
   "metadata": {},
   "outputs": [],
   "source": [
    "# import Levenshtein\n",
    "# match=\"Permanent Account Number\"\n",
    "# for i in im1:\n",
    "#     for match in i:\n",
    "#         x= Levenshtein.ratio(match,i)\n",
    "#         if x > 0.5:\n",
    "#             print(\"Done\")\n",
    "#         elif x < 0.5:\n",
    "#             print(\"JI\")\n"
   ]
  },
  {
   "cell_type": "code",
   "execution_count": null,
   "metadata": {},
   "outputs": [],
   "source": [
    "# import Levenshtein\n",
    "# match_string = \"Permanent Account Number\"\n",
    "\n",
    "# for match in im1:\n",
    "#     print(\"Found\")\n",
    "#     x=Levenshtein.ratio(match_string,match)\n",
    "#     print(im1)\n",
    "#     print(x)\n",
    "#     if  x > 0.5:\n",
    "#         print(\"Levenshtein Distance:\",x)\n",
    "#         print(\"Pan Number found..\")\n",
    "#         print(\"Permanent\",Pan_num)\n",
    "#         break\n",
    "#     elif x < 0.5:\n",
    "#         print(\"Please upload clear pan image\")\n",
    "#         break\n",
    "#     else:\n",
    "#         print(\"Please upload clear pan image\")"
   ]
  },
  {
   "cell_type": "code",
   "execution_count": null,
   "metadata": {},
   "outputs": [],
   "source": [
    "# ASCIIcodes = []\n",
    "# match_string = \"Permanent Account Number\"\n",
    "# for mammal in im:\n",
    "#     for match_string in mammal:\n",
    "#         x=Levenshtein.ratio(match_string,match)\n",
    "#         if  x > 0.5:\n",
    "# #             print(\"Levenshtein Distance:\",x)\n",
    "# #             print(\"Pan Number found..\")\n",
    "# #             print(\"Permanent\",Pan_num)\n",
    "#             ASCIIcodes.append(Pan_num)\n",
    "#     for match_string not in mammal:\n",
    "#         print(\"NO\")\n",
    "           \n",
    "        \n",
    "# print(ASCIIcodes)\n",
    "# print(\"Levenshtein Distance:\",x)\n",
    "# print(\"Pan Number found..\")"
   ]
  },
  {
   "cell_type": "code",
   "execution_count": null,
   "metadata": {},
   "outputs": [],
   "source": [
    "# x = \"Permanent Account Number\"\n",
    "\n",
    "# # list = [10, 20, 30, 40, 50 ]; \n",
    "  \n",
    "# # if ( x not in im ): \n",
    "# #    print (\"x is NOT present in given list\")\n",
    "# # # else: \n",
    "# # #    print (\"x is  present in given list\")\n",
    "\n",
    "# for x in im :\n",
    "#         if(Levenshtein.ratio(x, i)) > 0.5: \n",
    "#              print (\"y is present in given list\")\n",
    "#              print(\"Levenshtein Distance:\",Levenshtein.ratio(x, i))\n",
    "#              print(\"permanent\",Pan_num)\n",
    "#         else: \n",
    "#              print (\"y is NOT present in given list\")\n",
    "#              print(\"Levenshtein Distance:\",Levenshtein.ratio(x, i))\n"
   ]
  },
  {
   "cell_type": "code",
   "execution_count": null,
   "metadata": {},
   "outputs": [],
   "source": [
    "# import Levenshtein\n",
    "# match_string = \"Permanent Account Number\"\n",
    "# for i in im1:\n",
    "#     ratio=Levenshtein.ratio(match_string,i)\n",
    "#     print(ratio)\n",
    "#     if ratio > 0.19:\n",
    "#         print(\"Pan Number found:\")\n",
    "#         print(Pan_num)\n",
    "#     else:\n",
    "#         print(\"Please upload clear pan image\")"
   ]
  },
  {
   "cell_type": "code",
   "execution_count": null,
   "metadata": {},
   "outputs": [],
   "source": [
    "# one = im[6]\n",
    "# two=im[2][0:24]\n",
    "# three=im[3]\n",
    "# print(\"Pan_number:\",one)\n",
    "# print(\"Name:\",two)\n",
    "# print(\"Father Name:\",three)\n"
   ]
  },
  {
   "cell_type": "code",
   "execution_count": null,
   "metadata": {},
   "outputs": [],
   "source": [
    "\n",
    "# import Levenshtein\n",
    "# match_string = \"Permanent Account Number\"\n",
    "# for i in im:\n",
    "# #     print (Levenshtein.ratio('Permanent Account Number', i))\n",
    "#     if (Levenshtein.ratio(match_string, i)) > 0.5:\n",
    "#                 print(\"Levenshtein Distance:\",Levenshtein.ratio(match_string, i))\n",
    "#                 print(\"Pan Number found..\")\n",
    "#                 print(\"Permanent\",Pan_num)\n",
    "#     else:\n",
    "#                  print('No')\n"
   ]
  },
  {
   "cell_type": "code",
   "execution_count": null,
   "metadata": {},
   "outputs": [],
   "source": []
  },
  {
   "cell_type": "code",
   "execution_count": null,
   "metadata": {},
   "outputs": [],
   "source": [
    "# if bad_chars in im:\n",
    "#     print (\"Echipele nu sunt bune\")  \n",
    "# else:\n",
    "#     print(\"NO\")"
   ]
  },
  {
   "cell_type": "code",
   "execution_count": null,
   "metadata": {},
   "outputs": [],
   "source": [
    "# sub = 'GOVT.\\\\0FINDIA'\n",
    "\n",
    "# for text in im:\n",
    "#     if sub in text:\n",
    "#         print(text)"
   ]
  },
  {
   "cell_type": "code",
   "execution_count": null,
   "metadata": {},
   "outputs": [],
   "source": [
    "# im=str(im).strip('[]')\n",
    "# start = '0FINDIA'\n",
    "# end = 'Signature'\n",
    "# final_String= im.split(start)[1].split(end)[0]\n",
    "# final_String"
   ]
  },
  {
   "cell_type": "code",
   "execution_count": null,
   "metadata": {},
   "outputs": [],
   "source": [
    "# for im in final_String.split(\"\\n\"):\n",
    "#     im=re.sub(r\"[^a-zA-Z0-9]+\", '\\n', im)\n",
    "#     print(im)"
   ]
  },
  {
   "cell_type": "code",
   "execution_count": null,
   "metadata": {},
   "outputs": [],
   "source": [
    "# import Levenshtein\n",
    "# Levenshtein.ratio('hello', 'hello')"
   ]
  },
  {
   "cell_type": "code",
   "execution_count": null,
   "metadata": {},
   "outputs": [],
   "source": []
  },
  {
   "cell_type": "code",
   "execution_count": null,
   "metadata": {},
   "outputs": [],
   "source": []
  }
 ],
 "metadata": {
  "kernelspec": {
   "display_name": "Python 3",
   "language": "python",
   "name": "python3"
  },
  "language_info": {
   "codemirror_mode": {
    "name": "ipython",
    "version": 3
   },
   "file_extension": ".py",
   "mimetype": "text/x-python",
   "name": "python",
   "nbconvert_exporter": "python",
   "pygments_lexer": "ipython3",
   "version": "3.7.3"
  }
 },
 "nbformat": 4,
 "nbformat_minor": 2
}
